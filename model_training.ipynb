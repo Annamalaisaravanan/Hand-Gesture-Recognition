{
 "cells": [
  {
   "cell_type": "code",
   "execution_count": 8,
   "metadata": {},
   "outputs": [],
   "source": [
    "import os\n",
    "import pandas as pd\n",
    "import numpy as np\n",
    "import cv2\n",
    "from PIL import Image\n",
    "from matplotlib import image,pyplot\n",
    "from keras.utils import to_categorical"
   ]
  },
  {
   "cell_type": "code",
   "execution_count": 9,
   "metadata": {},
   "outputs": [],
   "source": [
    "x,y=[],[]\n",
    "path=\"C:/Users/Annamalai/Downloads/HandGesture/images\"\n",
    "loc=os.listdir(path)\n",
    "for i in os.listdir(path):\n",
    "    for j in os.listdir(path+\"/\"+i):\n",
    "        im=Image.open(path+\"/\"+i+\"/\"+j)\n",
    "        im=im.resize((240,200),Image.ANTIALIAS)\n",
    "        im=np.array(im)\n",
    "        im=np.expand_dims(im,axis=2)\n",
    "        x.append(im)\n",
    "        y.append(loc.index(i))\n",
    "x=np.array(x)\n",
    "y=to_categorical(y,num_classes=len(loc))"
   ]
  },
  {
   "cell_type": "code",
   "execution_count": 44,
   "metadata": {},
   "outputs": [
    {
     "data": {
      "text/plain": [
       "((5243, 200, 240, 1), (5243, 10))"
      ]
     },
     "execution_count": 44,
     "metadata": {},
     "output_type": "execute_result"
    }
   ],
   "source": [
    "x.shape,y.shape"
   ]
  },
  {
   "cell_type": "code",
   "execution_count": 45,
   "metadata": {},
   "outputs": [],
   "source": [
    "from keras.models import Sequential\n",
    "import keras\n",
    "from keras import layers\n",
    "from keras.layers import Flatten\n",
    "from sklearn.model_selection import train_test_split"
   ]
  },
  {
   "cell_type": "code",
   "execution_count": 46,
   "metadata": {},
   "outputs": [],
   "source": [
    "x_train,x_test,y_train,y_test=train_test_split(x,y,train_size=0.80)\n",
    "x_t,x_val,y_t,y_val=train_test_split(x_train,y_train,train_size=0.80)"
   ]
  },
  {
   "cell_type": "code",
   "execution_count": 16,
   "metadata": {},
   "outputs": [
    {
     "name": "stdout",
     "output_type": "stream",
     "text": [
      "Model: \"sequential_4\"\n",
      "_________________________________________________________________\n",
      "Layer (type)                 Output Shape              Param #   \n",
      "=================================================================\n",
      "conv2d_14 (Conv2D)           (None, 66, 79, 32)        832       \n",
      "_________________________________________________________________\n",
      "conv2d_15 (Conv2D)           (None, 32, 39, 16)        4624      \n",
      "_________________________________________________________________\n",
      "max_pooling2d_7 (MaxPooling2 (None, 10, 13, 16)        0         \n",
      "=================================================================\n",
      "Total params: 5,456\n",
      "Trainable params: 5,456\n",
      "Non-trainable params: 0\n",
      "_________________________________________________________________\n",
      "Model: \"sequential_4\"\n",
      "_________________________________________________________________\n",
      "Layer (type)                 Output Shape              Param #   \n",
      "=================================================================\n",
      "conv2d_14 (Conv2D)           (None, 66, 79, 32)        832       \n",
      "_________________________________________________________________\n",
      "conv2d_15 (Conv2D)           (None, 32, 39, 16)        4624      \n",
      "_________________________________________________________________\n",
      "max_pooling2d_7 (MaxPooling2 (None, 10, 13, 16)        0         \n",
      "_________________________________________________________________\n",
      "conv2d_16 (Conv2D)           (None, 8, 11, 32)         4640      \n",
      "_________________________________________________________________\n",
      "conv2d_17 (Conv2D)           (None, 6, 9, 32)          9248      \n",
      "_________________________________________________________________\n",
      "max_pooling2d_8 (MaxPooling2 (None, 2, 3, 32)          0         \n",
      "=================================================================\n",
      "Total params: 19,344\n",
      "Trainable params: 19,344\n",
      "Non-trainable params: 0\n",
      "_________________________________________________________________\n",
      "Epoch 1/50\n",
      "53/53 [==============================] - 23s 379ms/step - loss: 5.7280 - accuracy: 0.1102 - val_loss: 2.2367 - val_accuracy: 0.1716\n",
      "Epoch 2/50\n",
      "53/53 [==============================] - 18s 348ms/step - loss: 2.1212 - accuracy: 0.2271 - val_loss: 1.7066 - val_accuracy: 0.4243\n",
      "Epoch 3/50\n",
      "53/53 [==============================] - 18s 333ms/step - loss: 1.4550 - accuracy: 0.5148 - val_loss: 0.7977 - val_accuracy: 0.7378\n",
      "Epoch 4/50\n",
      "53/53 [==============================] - 18s 332ms/step - loss: 0.5969 - accuracy: 0.8055 - val_loss: 0.4924 - val_accuracy: 0.8427\n",
      "Epoch 5/50\n",
      "53/53 [==============================] - 18s 337ms/step - loss: 0.2697 - accuracy: 0.9111 - val_loss: 0.3156 - val_accuracy: 0.8999\n",
      "Epoch 6/50\n",
      "53/53 [==============================] - 18s 342ms/step - loss: 0.1599 - accuracy: 0.9470 - val_loss: 0.3595 - val_accuracy: 0.8987\n",
      "Epoch 7/50\n",
      "53/53 [==============================] - 18s 337ms/step - loss: 0.1178 - accuracy: 0.9639 - val_loss: 0.2849 - val_accuracy: 0.9273\n",
      "Epoch 8/50\n",
      "53/53 [==============================] - 18s 344ms/step - loss: 0.0655 - accuracy: 0.9810 - val_loss: 0.2756 - val_accuracy: 0.9297\n",
      "Epoch 9/50\n",
      "53/53 [==============================] - 18s 344ms/step - loss: 0.0293 - accuracy: 0.9925 - val_loss: 0.2582 - val_accuracy: 0.9380\n",
      "Epoch 10/50\n",
      "53/53 [==============================] - 18s 340ms/step - loss: 0.0177 - accuracy: 0.9967 - val_loss: 0.2865 - val_accuracy: 0.9356\n",
      "Epoch 11/50\n",
      "53/53 [==============================] - 18s 338ms/step - loss: 0.0094 - accuracy: 0.9997 - val_loss: 0.2529 - val_accuracy: 0.9452\n",
      "Epoch 12/50\n",
      "53/53 [==============================] - 18s 342ms/step - loss: 0.0037 - accuracy: 1.0000 - val_loss: 0.2421 - val_accuracy: 0.9452\n",
      "Epoch 13/50\n",
      "53/53 [==============================] - 18s 347ms/step - loss: 0.0019 - accuracy: 1.0000 - val_loss: 0.2430 - val_accuracy: 0.9476\n",
      "Epoch 14/50\n",
      "53/53 [==============================] - 18s 345ms/step - loss: 0.0014 - accuracy: 1.0000 - val_loss: 0.2470 - val_accuracy: 0.9464\n",
      "Epoch 15/50\n",
      "53/53 [==============================] - 18s 345ms/step - loss: 0.0012 - accuracy: 1.0000 - val_loss: 0.2467 - val_accuracy: 0.9464\n",
      "Epoch 16/50\n",
      "53/53 [==============================] - 18s 333ms/step - loss: 9.5175e-04 - accuracy: 1.0000 - val_loss: 0.2518 - val_accuracy: 0.9452\n",
      "Epoch 17/50\n",
      "53/53 [==============================] - 18s 341ms/step - loss: 8.4285e-04 - accuracy: 1.0000 - val_loss: 0.2516 - val_accuracy: 0.9464\n",
      "Epoch 18/50\n",
      "53/53 [==============================] - 18s 342ms/step - loss: 7.4329e-04 - accuracy: 1.0000 - val_loss: 0.2526 - val_accuracy: 0.9476\n",
      "Epoch 19/50\n",
      "53/53 [==============================] - 19s 365ms/step - loss: 6.6082e-04 - accuracy: 1.0000 - val_loss: 0.2570 - val_accuracy: 0.9476\n",
      "Epoch 20/50\n",
      "53/53 [==============================] - 18s 336ms/step - loss: 5.9662e-04 - accuracy: 1.0000 - val_loss: 0.2591 - val_accuracy: 0.9487\n",
      "Epoch 21/50\n",
      "53/53 [==============================] - 18s 343ms/step - loss: 5.2318e-04 - accuracy: 1.0000 - val_loss: 0.2597 - val_accuracy: 0.9464\n",
      "Epoch 22/50\n",
      "53/53 [==============================] - 18s 335ms/step - loss: 4.3553e-04 - accuracy: 1.0000 - val_loss: 0.2607 - val_accuracy: 0.9464\n",
      "Epoch 23/50\n",
      "53/53 [==============================] - 18s 336ms/step - loss: 4.3408e-04 - accuracy: 1.0000 - val_loss: 0.2626 - val_accuracy: 0.9476\n",
      "Epoch 24/50\n",
      "53/53 [==============================] - 18s 334ms/step - loss: 4.0839e-04 - accuracy: 1.0000 - val_loss: 0.2637 - val_accuracy: 0.9476\n",
      "Epoch 25/50\n",
      "53/53 [==============================] - 18s 343ms/step - loss: 3.5883e-04 - accuracy: 1.0000 - val_loss: 0.2676 - val_accuracy: 0.9487\n",
      "Epoch 26/50\n",
      "53/53 [==============================] - 18s 338ms/step - loss: 3.7657e-04 - accuracy: 1.0000 - val_loss: 0.2670 - val_accuracy: 0.9476\n",
      "Epoch 27/50\n",
      "53/53 [==============================] - 18s 339ms/step - loss: 2.9671e-04 - accuracy: 1.0000 - val_loss: 0.2704 - val_accuracy: 0.9499\n",
      "Epoch 28/50\n",
      "53/53 [==============================] - 19s 352ms/step - loss: 2.8833e-04 - accuracy: 1.0000 - val_loss: 0.2696 - val_accuracy: 0.9476\n",
      "Epoch 29/50\n",
      "53/53 [==============================] - 20s 370ms/step - loss: 2.6116e-04 - accuracy: 1.0000 - val_loss: 0.2703 - val_accuracy: 0.9487\n",
      "Epoch 30/50\n",
      "53/53 [==============================] - 18s 340ms/step - loss: 2.3903e-04 - accuracy: 1.0000 - val_loss: 0.2710 - val_accuracy: 0.9499\n",
      "Epoch 31/50\n",
      "53/53 [==============================] - 18s 340ms/step - loss: 2.4298e-04 - accuracy: 1.0000 - val_loss: 0.2731 - val_accuracy: 0.9487\n",
      "Epoch 32/50\n",
      "53/53 [==============================] - 18s 339ms/step - loss: 2.0665e-04 - accuracy: 1.0000 - val_loss: 0.2758 - val_accuracy: 0.9487\n",
      "Epoch 33/50\n",
      "53/53 [==============================] - 18s 339ms/step - loss: 1.7415e-04 - accuracy: 1.0000 - val_loss: 0.2757 - val_accuracy: 0.9476\n",
      "Epoch 34/50\n",
      "53/53 [==============================] - 18s 344ms/step - loss: 1.9094e-04 - accuracy: 1.0000 - val_loss: 0.2754 - val_accuracy: 0.9487\n",
      "Epoch 35/50\n",
      "53/53 [==============================] - 18s 342ms/step - loss: 1.7860e-04 - accuracy: 1.0000 - val_loss: 0.2775 - val_accuracy: 0.9511\n",
      "Epoch 36/50\n",
      "53/53 [==============================] - 18s 342ms/step - loss: 1.8270e-04 - accuracy: 1.0000 - val_loss: 0.2788 - val_accuracy: 0.9523\n",
      "Epoch 37/50\n",
      "53/53 [==============================] - 18s 341ms/step - loss: 1.4279e-04 - accuracy: 1.0000 - val_loss: 0.2783 - val_accuracy: 0.9499\n",
      "Epoch 38/50\n",
      "53/53 [==============================] - 18s 344ms/step - loss: 1.4341e-04 - accuracy: 1.0000 - val_loss: 0.2802 - val_accuracy: 0.9523\n",
      "Epoch 39/50\n",
      "53/53 [==============================] - 18s 342ms/step - loss: 1.3948e-04 - accuracy: 1.0000 - val_loss: 0.2798 - val_accuracy: 0.9511\n",
      "Epoch 40/50\n",
      "53/53 [==============================] - 18s 341ms/step - loss: 1.1831e-04 - accuracy: 1.0000 - val_loss: 0.2826 - val_accuracy: 0.9523\n",
      "Epoch 41/50\n",
      "53/53 [==============================] - 18s 342ms/step - loss: 1.1573e-04 - accuracy: 1.0000 - val_loss: 0.2817 - val_accuracy: 0.9511\n",
      "Epoch 42/50\n",
      "53/53 [==============================] - 18s 340ms/step - loss: 1.1393e-04 - accuracy: 1.0000 - val_loss: 0.2842 - val_accuracy: 0.9511\n",
      "Epoch 43/50\n",
      "53/53 [==============================] - 20s 370ms/step - loss: 1.1133e-04 - accuracy: 1.0000 - val_loss: 0.2842 - val_accuracy: 0.9511\n"
     ]
    },
    {
     "name": "stdout",
     "output_type": "stream",
     "text": [
      "Epoch 44/50\n",
      "53/53 [==============================] - 19s 348ms/step - loss: 1.0610e-04 - accuracy: 1.0000 - val_loss: 0.2849 - val_accuracy: 0.9523\n",
      "Epoch 45/50\n",
      "53/53 [==============================] - 18s 344ms/step - loss: 1.0525e-04 - accuracy: 1.0000 - val_loss: 0.2868 - val_accuracy: 0.9523\n",
      "Epoch 46/50\n",
      "53/53 [==============================] - 18s 336ms/step - loss: 9.0492e-05 - accuracy: 1.0000 - val_loss: 0.2881 - val_accuracy: 0.9511\n",
      "Epoch 47/50\n",
      "53/53 [==============================] - 18s 341ms/step - loss: 8.7332e-05 - accuracy: 1.0000 - val_loss: 0.2869 - val_accuracy: 0.9523\n",
      "Epoch 48/50\n",
      "53/53 [==============================] - 18s 333ms/step - loss: 8.0610e-05 - accuracy: 1.0000 - val_loss: 0.2877 - val_accuracy: 0.9523\n",
      "Epoch 49/50\n",
      "53/53 [==============================] - 18s 332ms/step - loss: 7.9134e-05 - accuracy: 1.0000 - val_loss: 0.2889 - val_accuracy: 0.9523\n",
      "Epoch 50/50\n",
      "53/53 [==============================] - 18s 333ms/step - loss: 7.4286e-05 - accuracy: 1.0000 - val_loss: 0.2906 - val_accuracy: 0.9523\n"
     ]
    },
    {
     "data": {
      "text/plain": [
       "<tensorflow.python.keras.callbacks.History at 0x22735d1a070>"
      ]
     },
     "execution_count": 16,
     "metadata": {},
     "output_type": "execute_result"
    }
   ],
   "source": [
    "model=Sequential()\n",
    "model.add(keras.Input(shape=(200,240,1)))\n",
    "model.add(layers.Conv2D(32,5,strides=3,activation=\"relu\"))\n",
    "model.add(layers.Conv2D(16,3,strides=2,activation=\"relu\"))\n",
    "model.add(layers.MaxPooling2D(3))\n",
    "model.summary()\n",
    "model.add(layers.Conv2D(32, 3, activation=\"relu\"))\n",
    "model.add(layers.Conv2D(32, 3, activation=\"relu\"))\n",
    "model.add(layers.MaxPooling2D(3))\n",
    "model.summary()\n",
    "model.add(layers.GlobalMaxPooling2D())\n",
    "model.add(Flatten())\n",
    "model.add(layers.Dense(32,activation=\"relu\"))\n",
    "model.add(layers.Dense(10, activation = 'softmax'))\n",
    "model.compile(optimizer = 'adam', loss = 'categorical_crossentropy', metrics = ['accuracy'])\n",
    "model.fit(x_t,y_t,validation_data=(x_val,y_val),epochs = 50,batch_size = 64)"
   ]
  },
  {
   "cell_type": "code",
   "execution_count": 17,
   "metadata": {},
   "outputs": [],
   "source": [
    "model.save(\"C:/Users/Annamalai/Desktop/model_weight/my_model1.h5\")"
   ]
  },
  {
   "cell_type": "code",
   "execution_count": 47,
   "metadata": {},
   "outputs": [],
   "source": [
    "predict_val=model.predict(x_test)"
   ]
  },
  {
   "cell_type": "code",
   "execution_count": 48,
   "metadata": {},
   "outputs": [],
   "source": [
    "t=np.argmax(predict_val,axis=-1)"
   ]
  },
  {
   "cell_type": "code",
   "execution_count": 53,
   "metadata": {},
   "outputs": [],
   "source": [
    "y_data=np.argmax(y_test,axis=-1)"
   ]
  },
  {
   "cell_type": "code",
   "execution_count": 60,
   "metadata": {},
   "outputs": [
    {
     "data": {
      "text/plain": [
       "array([[112,   0,   0,   1,   0,   0,   0,   0,   1,   0],\n",
       "       [  0,  94,   0,   0,   0,   0,   1,   0,   1,   0],\n",
       "       [  1,   0, 109,   1,   0,   0,   1,   0,   0,   0],\n",
       "       [  0,   0,   1,  99,   0,   0,   0,   0,   0,   1],\n",
       "       [  0,   1,   0,   0, 111,   0,   0,   0,   0,   0],\n",
       "       [  0,   0,   0,   0,   0,  99,   0,   0,   0,   0],\n",
       "       [  0,   0,   0,   0,   1,   0,  97,   0,   0,   0],\n",
       "       [  0,   0,   0,   1,   0,   1,   0, 102,   0,   0],\n",
       "       [  0,   0,   0,   0,   0,   0,   1,   0, 103,   0],\n",
       "       [  0,   1,   0,   0,   0,   0,   0,   0,   0, 108]], dtype=int64)"
      ]
     },
     "execution_count": 60,
     "metadata": {},
     "output_type": "execute_result"
    }
   ],
   "source": [
    "from sklearn.metrics import confusion_matrix,classification_report,accuracy_score\n",
    "confusion_matrix(t,y_data)\n"
   ]
  },
  {
   "cell_type": "code",
   "execution_count": 61,
   "metadata": {},
   "outputs": [
    {
     "data": {
      "text/plain": [
       "0.9857006673021925"
      ]
     },
     "execution_count": 61,
     "metadata": {},
     "output_type": "execute_result"
    }
   ],
   "source": [
    "accuracy_score(t,y_data)"
   ]
  },
  {
   "cell_type": "code",
   "execution_count": 2,
   "metadata": {},
   "outputs": [],
   "source": []
  },
  {
   "cell_type": "code",
   "execution_count": 3,
   "metadata": {},
   "outputs": [],
   "source": [
    "\n"
   ]
  },
  {
   "cell_type": "code",
   "execution_count": 6,
   "metadata": {},
   "outputs": [],
   "source": []
  },
  {
   "cell_type": "code",
   "execution_count": 7,
   "metadata": {},
   "outputs": [
    {
     "data": {
      "text/plain": [
       "2"
      ]
     },
     "execution_count": 7,
     "metadata": {},
     "output_type": "execute_result"
    }
   ],
   "source": []
  },
  {
   "cell_type": "code",
   "execution_count": null,
   "metadata": {},
   "outputs": [],
   "source": []
  }
 ],
 "metadata": {
  "kernelspec": {
   "display_name": "Python 3",
   "language": "python",
   "name": "python3"
  },
  "language_info": {
   "codemirror_mode": {
    "name": "ipython",
    "version": 3
   },
   "file_extension": ".py",
   "mimetype": "text/x-python",
   "name": "python",
   "nbconvert_exporter": "python",
   "pygments_lexer": "ipython3",
   "version": "3.8.5"
  }
 },
 "nbformat": 4,
 "nbformat_minor": 4
}
